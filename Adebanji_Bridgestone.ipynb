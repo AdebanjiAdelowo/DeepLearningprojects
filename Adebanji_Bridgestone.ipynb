{
  "nbformat": 4,
  "nbformat_minor": 0,
  "metadata": {
    "colab": {
      "name": "Adebanji_Bridgestone.ipynb",
      "provenance": [],
      "collapsed_sections": []
    },
    "kernelspec": {
      "name": "python3",
      "display_name": "Python 3"
    },
    "language_info": {
      "name": "python"
    }
  },
  "cells": [
    {
      "cell_type": "markdown",
      "source": [
        "# **In this work, we want to find the closest point to a point on the Bezier curve**"
      ],
      "metadata": {
        "id": "cM-IMQwdLrD0"
      }
    },
    {
      "cell_type": "code",
      "source": [
        "import numpy as np\n",
        "from matplotlib import pyplot as plt\n",
        "from scipy.optimize import minimize_scalar"
      ],
      "metadata": {
        "id": "O0MIq9IGLuk8"
      },
      "execution_count": 1,
      "outputs": []
    },
    {
      "cell_type": "code",
      "source": [
        "class Bezier:\n",
        "    def __init__(self, point1, point2, point3, point4):\n",
        "        \"\"\"\n",
        "        Initializes a bezier from the 4 control points provided\n",
        "\n",
        "        They are control points. They help generate the curve and also controls the shape of the curve.\n",
        "        \n",
        "        :param np.ndarray point1:\n",
        "        :param np.ndarray point2:\n",
        "        :param np.ndarray point3:\n",
        "        :param np.ndarray point4:\n",
        "        \"\"\"\n",
        "        self.point1 = point1\n",
        "        self.point2 = point2\n",
        "        self.point3 = point3\n",
        "        self.point4 = point4\n",
        "    \n",
        "    def compute(self, t):\n",
        "\n",
        "        if t > 1 or t < 0:\n",
        "            raise ValueError('t must be between 0 and 1')\n",
        "        \n",
        "        return t ** 3 * self.point4 + 3 * t ** 2 * (1 - t) * self.point3 + 3 * (1 - t) ** 2 * t * self.point2 + (1 - t) ** 3 * self.point1\n",
        "\n",
        "    \n",
        "    def bezierDistance(self, t , point):\n",
        "\n",
        "        \"\"\"\n",
        "        This computes the distance of a point from a bezier curve.\n",
        "        \n",
        "        \"\"\"\n",
        " \n",
        "        brezier_poly = self.compute(t)\n",
        "        \n",
        "        return np.linalg.norm(brezier_poly - point)\n",
        "\n",
        "    \n",
        "    def findClosestPoint(self, point):\n",
        "\n",
        "        \"\"\"\n",
        "        Should return the closes point on Bezier\n",
        "        :param np.ndarray point:\n",
        "        :return: np.ndarray representing the closes point\n",
        "        \"\"\"\n",
        "\n",
        "        res = minimize_scalar(self.bezierDistance, args=(point,), bounds=(0, 1), method='bounded')\n",
        "\n",
        "        return self.compute(res.x)"
      ],
      "metadata": {
        "id": "f5ke08-xatpo"
      },
      "execution_count": 2,
      "outputs": []
    },
    {
      "cell_type": "markdown",
      "source": [
        "Now, let us find the closest point on the Bezier curve to [0.5, 0.8]"
      ],
      "metadata": {
        "id": "W4Byj8n7S6_9"
      }
    },
    {
      "cell_type": "code",
      "source": [
        "bezier = Bezier(np.array([0, 0]), np.array([1, 1]), np.array([2, 1]), np.array([3, 0]))\n",
        "bezier.findClosestPoint(np.array([0.5, 0.8]))"
      ],
      "metadata": {
        "colab": {
          "base_uri": "https://localhost:8080/"
        },
        "id": "IaYoiEclDzy6",
        "outputId": "e5b09b59-0673-417c-93e3-32c962bce677"
      },
      "execution_count": 3,
      "outputs": [
        {
          "output_type": "execute_result",
          "data": {
            "text/plain": [
              "array([0.65980841, 0.5146927 ])"
            ]
          },
          "metadata": {},
          "execution_count": 3
        }
      ]
    },
    {
      "cell_type": "code",
      "source": [
        "if __name__ == '__main__':\n",
        "\n",
        "    bezier = Bezier(np.array([0, 0]), np.array([1, 1]), np.array([2, 1]), np.array([3, 0]))\n",
        "\n",
        "    points = np.array([bezier.compute(t) for t in np.arange(0, 1.05, 0.05)])\n",
        "\n",
        "    plt.plot(points[:,0], points[:, 1])\n",
        "    plt.plot(bezier.point1[0], bezier.point1[1], 'xr')\n",
        "    plt.plot(bezier.point2[0], bezier.point2[1], 'xr')\n",
        "    plt.plot(bezier.point3[0], bezier.point3[1], 'xr')\n",
        "    plt.plot(bezier.point4[0], bezier.point4[1], 'xr')\n",
        "    plt.show()"
      ],
      "metadata": {
        "colab": {
          "base_uri": "https://localhost:8080/",
          "height": 265
        },
        "id": "iLjiNj4RRwar",
        "outputId": "a6c80e5d-e8cd-4a7f-e89a-a24fc7b39a2c"
      },
      "execution_count": 4,
      "outputs": [
        {
          "output_type": "display_data",
          "data": {
            "image/png": "[encoded data removed]",
            "text/plain": [
              "<Figure size 432x288 with 1 Axes>"
            ]
          },
          "metadata": {
            "needs_background": "light"
          }
        }
      ]
    },
    {
      "cell_type": "markdown",
      "source": [
        "The red points are control points of the Bézier curve. They are used to generate the curve by interpolating between those points. The intermediate control points determine the shape of the Bézier curve. In our case, the curve is generated by interpolating between the starting control point and the second control point, the second control point and the third control point, the third control point and the last control point. Then finally interpolating between the remaining lines. The curve is of order 3 because we have four control points."
      ],
      "metadata": {
        "id": "VyE_5IGkSRTF"
      }
    },
    {
      "cell_type": "code",
      "source": [
        ""
      ],
      "metadata": {
        "id": "CCRJc7moScIM"
      },
      "execution_count": 4,
      "outputs": []
    }
  ]
}